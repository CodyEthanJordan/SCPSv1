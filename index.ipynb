{
 "cells": [
  {
   "cell_type": "markdown",
   "metadata": {},
   "source": [
    "# SCPS 6-8 Coding Project\n",
    "\n",
    "### Coding in science class\n",
    "- [Analyze 1D motion](./sci/Motion_analysis.ipynb) or use this \n",
    "- [Plot USGS data on earthquakes around the globe](./sci/USGS_quakes.ipynb)\n",
    "- [Analyze data from CERN's CMS detector](./sci/CMS_massplot.ipynb)\n",
    "- [Analyze global climate data from NASA's](./sci/NASA_global_temp.ipynb)\n",
    "\n",
    "### Earth/Space Science\n",
    "- [Analyze global climate data from NASA](./GlobalTemp.ipynb)\n",
    "- [Plot recent seismic activity around the globe](./Quakes.ipynb)\n",
    "- [Analyze data on stars and galaxies](./Stars.ipynb)\n",
    "- [Investigate patterns in tides](./Stars.ipynb)\n",
    "\n",
    "### Physical Science\n",
    "- [Trends in the periodic table](./Elements.ipynb)\n",
    "- [Analyze 1D motion](./Motion.ipynb)\n",
    "\n",
    "### Life Science\n",
    "- [Study deposits to the Global Seed Vault](./Seeds.ipynb)\n",
    "- In works: analysis of fluorescence microscopy images\n",
    "\n",
    "### Other\n",
    "- [template for lab data analysis with graphs](./templateGraphong.ipynb)\n",
    "- [template for a data table](./templateTable.ipynb)"
   ]
  },
  {
   "cell_type": "markdown",
   "metadata": {},
   "source": [
    ">*Back to [CODINGinK12.org](http://www.codingink12.org)*"
   ]
  }
 ],
 "metadata": {
  "kernelspec": {
   "display_name": "Python 3",
   "language": "python",
   "name": "python3"
  },
  "language_info": {
   "codemirror_mode": {
    "name": "ipython",
    "version": 3
   },
   "file_extension": ".py",
   "mimetype": "text/x-python",
   "name": "python",
   "nbconvert_exporter": "python",
   "pygments_lexer": "ipython3",
   "version": "3.5.2"
  }
 },
 "nbformat": 4,
 "nbformat_minor": 0
}
