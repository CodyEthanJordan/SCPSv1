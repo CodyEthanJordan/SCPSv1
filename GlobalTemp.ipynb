{
 "cells": [
  {
   "cell_type": "markdown",
   "metadata": {},
   "source": [
    "# Global Surface Temperature\n",
    "This example uses historical data since 1880 on average global surface temperature changes from [NASA's GISS Surface Temperature Analysis (GISTEMP)](http://data.giss.nasa.gov/gistemp/) ([original file](http://data.giss.nasa.gov/gistemp/tabledata_v3/GLB.Ts+dSST.csv)) That site has lots of other data sets in csv format, too.\n",
    "\n",
    "Click the \"play\" icon or press shift+enter to execute each cell."
   ]
  },
  {
   "cell_type": "code",
   "execution_count": 1,
   "metadata": {
    "collapsed": false
   },
   "outputs": [],
   "source": [
    "# import the software packages needed\n",
    "import pandas as pd\n",
    "import numpy as np\n",
    "%matplotlib inline\n",
    "import matplotlib as mpl\n",
    "import matplotlib.pyplot as plt\n",
    "inline_rc = dict(mpl.rcParams)"
   ]
  },
  {
   "cell_type": "markdown",
   "metadata": {},
   "source": [
    "## Importing a data set\n",
    "\n",
    "This next cell may take a little while to run if it's grabbing a pretty big data set. The cell label to the left will look like \"In [\\*]\" while it's still thinking and \"In [2]\" when it's finished."
   ]
  },
  {
   "cell_type": "code",
   "execution_count": 3,
   "metadata": {
    "collapsed": false
   },
   "outputs": [],
   "source": [
    "# fetch data\n",
    "# header=1 looks to row 1 for column labels since this file has the filename in row 0\n",
    "data = pd.read_csv('https://data.giss.nasa.gov/gistemp/tabledata_v3/GLB.Ts+dSST.csv', header=1)\n",
    "\n",
    "# You can use this instead if you're running this from a Binder link\n",
    "#data = pd.read_csv('./data/GlobalTemp.csv', header=1)"
   ]
  },
  {
   "cell_type": "markdown",
   "metadata": {},
   "source": [
    "We can view the first few rows of the file we just imported."
   ]
  },
  {
   "cell_type": "code",
   "execution_count": 5,
   "metadata": {
    "collapsed": false
   },
   "outputs": [
    {
     "data": {
      "text/html": [
       "<div>\n",
       "<table border=\"1\" class=\"dataframe\">\n",
       "  <thead>\n",
       "    <tr style=\"text-align: right;\">\n",
       "      <th></th>\n",
       "      <th>Year</th>\n",
       "      <th>Jan</th>\n",
       "      <th>Feb</th>\n",
       "      <th>Mar</th>\n",
       "      <th>Apr</th>\n",
       "      <th>May</th>\n",
       "      <th>Jun</th>\n",
       "      <th>Jul</th>\n",
       "      <th>Aug</th>\n",
       "      <th>Sep</th>\n",
       "      <th>Oct</th>\n",
       "      <th>Nov</th>\n",
       "      <th>Dec</th>\n",
       "      <th>J-D</th>\n",
       "      <th>D-N</th>\n",
       "      <th>DJF</th>\n",
       "      <th>MAM</th>\n",
       "      <th>JJA</th>\n",
       "      <th>SON</th>\n",
       "    </tr>\n",
       "  </thead>\n",
       "  <tbody>\n",
       "    <tr>\n",
       "      <th>0</th>\n",
       "      <td>1880</td>\n",
       "      <td>-0.30</td>\n",
       "      <td>-0.21</td>\n",
       "      <td>-0.19</td>\n",
       "      <td>-0.28</td>\n",
       "      <td>-0.15</td>\n",
       "      <td>-0.29</td>\n",
       "      <td>-0.24</td>\n",
       "      <td>-0.08</td>\n",
       "      <td>-.17</td>\n",
       "      <td>-.17</td>\n",
       "      <td>-.20</td>\n",
       "      <td>-.22</td>\n",
       "      <td>-.21</td>\n",
       "      <td>***</td>\n",
       "      <td>***</td>\n",
       "      <td>-0.20</td>\n",
       "      <td>-0.20</td>\n",
       "      <td>-.18</td>\n",
       "    </tr>\n",
       "    <tr>\n",
       "      <th>1</th>\n",
       "      <td>1881</td>\n",
       "      <td>-0.11</td>\n",
       "      <td>-0.15</td>\n",
       "      <td>0.00</td>\n",
       "      <td>-0.04</td>\n",
       "      <td>-0.05</td>\n",
       "      <td>-0.29</td>\n",
       "      <td>-0.07</td>\n",
       "      <td>-0.03</td>\n",
       "      <td>-.10</td>\n",
       "      <td>-.21</td>\n",
       "      <td>-.27</td>\n",
       "      <td>-.17</td>\n",
       "      <td>-.12</td>\n",
       "      <td>-.13</td>\n",
       "      <td>-.16</td>\n",
       "      <td>-0.03</td>\n",
       "      <td>-0.13</td>\n",
       "      <td>-.19</td>\n",
       "    </tr>\n",
       "    <tr>\n",
       "      <th>2</th>\n",
       "      <td>1882</td>\n",
       "      <td>0.08</td>\n",
       "      <td>0.07</td>\n",
       "      <td>0.01</td>\n",
       "      <td>-0.20</td>\n",
       "      <td>-0.18</td>\n",
       "      <td>-0.26</td>\n",
       "      <td>-0.11</td>\n",
       "      <td>0.03</td>\n",
       "      <td>-.02</td>\n",
       "      <td>-.23</td>\n",
       "      <td>-.22</td>\n",
       "      <td>-.26</td>\n",
       "      <td>-.11</td>\n",
       "      <td>-.10</td>\n",
       "      <td>.00</td>\n",
       "      <td>-0.13</td>\n",
       "      <td>-0.11</td>\n",
       "      <td>-.15</td>\n",
       "    </tr>\n",
       "    <tr>\n",
       "      <th>3</th>\n",
       "      <td>1883</td>\n",
       "      <td>-0.34</td>\n",
       "      <td>-0.43</td>\n",
       "      <td>-0.18</td>\n",
       "      <td>-0.25</td>\n",
       "      <td>-0.26</td>\n",
       "      <td>-0.12</td>\n",
       "      <td>-0.09</td>\n",
       "      <td>-0.13</td>\n",
       "      <td>-.19</td>\n",
       "      <td>-.12</td>\n",
       "      <td>-.21</td>\n",
       "      <td>-.19</td>\n",
       "      <td>-.21</td>\n",
       "      <td>-.22</td>\n",
       "      <td>-.34</td>\n",
       "      <td>-0.23</td>\n",
       "      <td>-0.12</td>\n",
       "      <td>-.17</td>\n",
       "    </tr>\n",
       "    <tr>\n",
       "      <th>4</th>\n",
       "      <td>1884</td>\n",
       "      <td>-0.19</td>\n",
       "      <td>-0.12</td>\n",
       "      <td>-0.35</td>\n",
       "      <td>-0.37</td>\n",
       "      <td>-0.33</td>\n",
       "      <td>-0.38</td>\n",
       "      <td>-0.35</td>\n",
       "      <td>-0.26</td>\n",
       "      <td>-.24</td>\n",
       "      <td>-.23</td>\n",
       "      <td>-.31</td>\n",
       "      <td>-.30</td>\n",
       "      <td>-.29</td>\n",
       "      <td>-.28</td>\n",
       "      <td>-.17</td>\n",
       "      <td>-0.35</td>\n",
       "      <td>-0.33</td>\n",
       "      <td>-.26</td>\n",
       "    </tr>\n",
       "    <tr>\n",
       "      <th>5</th>\n",
       "      <td>1885</td>\n",
       "      <td>-0.66</td>\n",
       "      <td>-0.30</td>\n",
       "      <td>-0.24</td>\n",
       "      <td>-0.45</td>\n",
       "      <td>-0.42</td>\n",
       "      <td>-0.51</td>\n",
       "      <td>-0.29</td>\n",
       "      <td>-0.28</td>\n",
       "      <td>-.20</td>\n",
       "      <td>-.20</td>\n",
       "      <td>-.23</td>\n",
       "      <td>-.06</td>\n",
       "      <td>-.32</td>\n",
       "      <td>-.34</td>\n",
       "      <td>-.42</td>\n",
       "      <td>-0.37</td>\n",
       "      <td>-0.36</td>\n",
       "      <td>-.21</td>\n",
       "    </tr>\n",
       "    <tr>\n",
       "      <th>6</th>\n",
       "      <td>1886</td>\n",
       "      <td>-0.43</td>\n",
       "      <td>-0.46</td>\n",
       "      <td>-0.42</td>\n",
       "      <td>-0.30</td>\n",
       "      <td>-0.28</td>\n",
       "      <td>-0.40</td>\n",
       "      <td>-0.17</td>\n",
       "      <td>-0.32</td>\n",
       "      <td>-.20</td>\n",
       "      <td>-.26</td>\n",
       "      <td>-.27</td>\n",
       "      <td>-.26</td>\n",
       "      <td>-.31</td>\n",
       "      <td>-.30</td>\n",
       "      <td>-.32</td>\n",
       "      <td>-0.33</td>\n",
       "      <td>-0.29</td>\n",
       "      <td>-.24</td>\n",
       "    </tr>\n",
       "    <tr>\n",
       "      <th>7</th>\n",
       "      <td>1887</td>\n",
       "      <td>-0.67</td>\n",
       "      <td>-0.49</td>\n",
       "      <td>-0.32</td>\n",
       "      <td>-0.38</td>\n",
       "      <td>-0.34</td>\n",
       "      <td>-0.21</td>\n",
       "      <td>-0.20</td>\n",
       "      <td>-0.28</td>\n",
       "      <td>-.20</td>\n",
       "      <td>-.33</td>\n",
       "      <td>-.27</td>\n",
       "      <td>-.39</td>\n",
       "      <td>-.34</td>\n",
       "      <td>-.33</td>\n",
       "      <td>-.47</td>\n",
       "      <td>-0.35</td>\n",
       "      <td>-0.23</td>\n",
       "      <td>-.27</td>\n",
       "    </tr>\n",
       "    <tr>\n",
       "      <th>8</th>\n",
       "      <td>1888</td>\n",
       "      <td>-0.44</td>\n",
       "      <td>-0.43</td>\n",
       "      <td>-0.48</td>\n",
       "      <td>-0.29</td>\n",
       "      <td>-0.23</td>\n",
       "      <td>-0.21</td>\n",
       "      <td>-0.10</td>\n",
       "      <td>-0.12</td>\n",
       "      <td>-.09</td>\n",
       "      <td>.00</td>\n",
       "      <td>-.02</td>\n",
       "      <td>-.13</td>\n",
       "      <td>-.21</td>\n",
       "      <td>-.23</td>\n",
       "      <td>-.42</td>\n",
       "      <td>-0.33</td>\n",
       "      <td>-0.14</td>\n",
       "      <td>-.03</td>\n",
       "    </tr>\n",
       "    <tr>\n",
       "      <th>9</th>\n",
       "      <td>1889</td>\n",
       "      <td>-0.21</td>\n",
       "      <td>0.14</td>\n",
       "      <td>0.04</td>\n",
       "      <td>0.04</td>\n",
       "      <td>-0.03</td>\n",
       "      <td>-0.12</td>\n",
       "      <td>-0.06</td>\n",
       "      <td>-0.18</td>\n",
       "      <td>-.19</td>\n",
       "      <td>-.23</td>\n",
       "      <td>-.31</td>\n",
       "      <td>-.31</td>\n",
       "      <td>-.12</td>\n",
       "      <td>-.10</td>\n",
       "      <td>-.07</td>\n",
       "      <td>0.01</td>\n",
       "      <td>-0.12</td>\n",
       "      <td>-.24</td>\n",
       "    </tr>\n",
       "  </tbody>\n",
       "</table>\n",
       "</div>"
      ],
      "text/plain": [
       "   Year   Jan   Feb   Mar   Apr   May   Jun   Jul   Aug   Sep   Oct   Nov  \\\n",
       "0  1880 -0.30 -0.21 -0.19 -0.28 -0.15 -0.29 -0.24 -0.08  -.17  -.17  -.20   \n",
       "1  1881 -0.11 -0.15  0.00 -0.04 -0.05 -0.29 -0.07 -0.03  -.10  -.21  -.27   \n",
       "2  1882  0.08  0.07  0.01 -0.20 -0.18 -0.26 -0.11  0.03  -.02  -.23  -.22   \n",
       "3  1883 -0.34 -0.43 -0.18 -0.25 -0.26 -0.12 -0.09 -0.13  -.19  -.12  -.21   \n",
       "4  1884 -0.19 -0.12 -0.35 -0.37 -0.33 -0.38 -0.35 -0.26  -.24  -.23  -.31   \n",
       "5  1885 -0.66 -0.30 -0.24 -0.45 -0.42 -0.51 -0.29 -0.28  -.20  -.20  -.23   \n",
       "6  1886 -0.43 -0.46 -0.42 -0.30 -0.28 -0.40 -0.17 -0.32  -.20  -.26  -.27   \n",
       "7  1887 -0.67 -0.49 -0.32 -0.38 -0.34 -0.21 -0.20 -0.28  -.20  -.33  -.27   \n",
       "8  1888 -0.44 -0.43 -0.48 -0.29 -0.23 -0.21 -0.10 -0.12  -.09   .00  -.02   \n",
       "9  1889 -0.21  0.14  0.04  0.04 -0.03 -0.12 -0.06 -0.18  -.19  -.23  -.31   \n",
       "\n",
       "    Dec   J-D   D-N   DJF   MAM   JJA   SON  \n",
       "0  -.22  -.21   ***   *** -0.20 -0.20  -.18  \n",
       "1  -.17  -.12  -.13  -.16 -0.03 -0.13  -.19  \n",
       "2  -.26  -.11  -.10   .00 -0.13 -0.11  -.15  \n",
       "3  -.19  -.21  -.22  -.34 -0.23 -0.12  -.17  \n",
       "4  -.30  -.29  -.28  -.17 -0.35 -0.33  -.26  \n",
       "5  -.06  -.32  -.34  -.42 -0.37 -0.36  -.21  \n",
       "6  -.26  -.31  -.30  -.32 -0.33 -0.29  -.24  \n",
       "7  -.39  -.34  -.33  -.47 -0.35 -0.23  -.27  \n",
       "8  -.13  -.21  -.23  -.42 -0.33 -0.14  -.03  \n",
       "9  -.31  -.12  -.10  -.07  0.01 -0.12  -.24  "
      ]
     },
     "execution_count": 5,
     "metadata": {},
     "output_type": "execute_result"
    }
   ],
   "source": [
    "# The .head(n) command displays the first n rows of the file.\n",
    "data.head(10)"
   ]
  },
  {
   "cell_type": "markdown",
   "metadata": {},
   "source": [
    "## Plotting the data"
   ]
  },
  {
   "cell_type": "code",
   "execution_count": 6,
   "metadata": {
    "collapsed": false
   },
   "outputs": [
    {
     "data": {
      "text/plain": [
       "<matplotlib.text.Text at 0x112584198>"
      ]
     },
     "execution_count": 6,
     "metadata": {},
     "output_type": "execute_result"
    },
    {
     "data": {
      "image/png": "[encoded data removed]",
      "text/plain": [
       "<matplotlib.figure.Figure at 0x11255fa90>"
      ]
     },
     "metadata": {},
     "output_type": "display_data"
    }
   ],
   "source": [
    "x = data.Year\n",
    "y = data.MAM\n",
    "\n",
    "# plt.plot() makes a line graph, by default\n",
    "# use plt.scatter() for a scatterplot, no lines\n",
    "plt.plot(x, y)\n",
    "plt.title('Percent temperature change copmared to previous 30-year average')\n",
    "plt.xlabel('Year')\n",
    "plt.ylabel('Percent temp change')"
   ]
  },
  {
   "cell_type": "markdown",
   "metadata": {},
   "source": [
    "## Edit and re-plot\n",
    "If you like Randall Monroe's webcomic [XKCD](http://xkcd.com/) as much as I do, you can make your plots look like his hand-drawn ones. Thanks to [Jake VanderPlas](http://jakevdp.github.io/blog/2013/07/10/XKCD-plots-in-matplotlib/) for sorting that out."
   ]
  },
  {
   "cell_type": "code",
   "execution_count": null,
   "metadata": {
    "collapsed": false
   },
   "outputs": [],
   "source": [
    "plt.xkcd()\n",
    "plt.plot(x, y)"
   ]
  },
  {
   "cell_type": "code",
   "execution_count": null,
   "metadata": {
    "collapsed": false
   },
   "outputs": [],
   "source": [
    "# to make normal plots again\n",
    "mpl.rcParams.update(inline_rc)"
   ]
  },
  {
   "cell_type": "markdown",
   "metadata": {
    "collapsed": true
   },
   "source": [
    "Try editing some code and re-running the cell to see the effects. For more information on formatting the markdown text in a cell like this one, go to Help > Markdown > Basic Writing and Formatting Text.\n",
    "\n",
    "To save your work: go to File > Save and Checkpoint. That only saves your edits as long as you're working inthis notebook. All is lost after 10 minutes of inactivity.\n",
    "\n",
    "To really save your work: go to File > Download as > iPython notebook (or save as pdf if you just want to show someone a snapshot of what your code and output look like."
   ]
  }
 ],
 "metadata": {
  "kernelspec": {
   "display_name": "Python 3",
   "language": "python",
   "name": "python3"
  },
  "language_info": {
   "codemirror_mode": {
    "name": "ipython",
    "version": 3
   },
   "file_extension": ".py",
   "mimetype": "text/x-python",
   "name": "python",
   "nbconvert_exporter": "python",
   "pygments_lexer": "ipython3",
   "version": "3.5.2"
  }
 },
 "nbformat": 4,
 "nbformat_minor": 0
}
