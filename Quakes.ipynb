{
 "cells": [
  {
   "cell_type": "markdown",
   "metadata": {},
   "source": [
    "#  Plotting Recent Earthquake Locations\n",
    "The U.S. Geological Survey (USGS) has raw data available online. More info at the [USGS earthquakes page](http://earthquake.usgs.gov/earthquakes/feed/v1.0/csv.php).\n",
    "\n",
    "This notebook was started by Physics teacher and Quarknet member Peter Apps, York Middle/High School, Retsof, NY."
   ]
  },
  {
   "cell_type": "code",
   "execution_count": 1,
   "metadata": {
    "collapsed": true
   },
   "outputs": [],
   "source": [
    "#importing what we'll need\n",
    "import numpy as np\n",
    "import pandas as pd\n",
    "%matplotlib inline\n",
    "import matplotlib.pyplot as plt"
   ]
  },
  {
   "cell_type": "markdown",
   "metadata": {},
   "source": [
    "## Choose your data\n",
    "In the box below, uncomment one of the data sets by deleting the # at the beginning of the line. Here's the [full listing](http://earthquake.usgs.gov/earthquakes/feed/v1.0/csv.php) of the different data sets you can grab."
   ]
  },
  {
   "cell_type": "code",
   "execution_count": 2,
   "metadata": {
    "collapsed": false
   },
   "outputs": [],
   "source": [
    "# Just earthquakes from the past hour\n",
    "#data = pd.read_csv(\"http://earthquake.usgs.gov/earthquakes/feed/v1.0/summary/all_hour.csv\")\n",
    "\n",
    "# All earthquake events in the last month\n",
    "data = pd.read_csv(\"http://earthquake.usgs.gov/earthquakes/feed/v1.0/summary/all_month.csv\")\n",
    "\n",
    "# Only large earthquakes (magnitude 4.5 or greater) in teh past month\n",
    "#data = pd.read_csv(\"http://earthquake.usgs.gov/earthquakes/feed/v1.0/summary/4.5_month.csv\")\n",
    "\n",
    "# or grab local data (this one's for the month leading up to Jan 26, 2017)\n",
    "#data = pd.read_csv(\"./data/quakes.csv\")"
   ]
  },
  {
   "cell_type": "code",
   "execution_count": 3,
   "metadata": {
    "collapsed": false
   },
   "outputs": [
    {
     "data": {
      "text/html": [
       "<div>\n",
       "<table border=\"1\" class=\"dataframe\">\n",
       "  <thead>\n",
       "    <tr style=\"text-align: right;\">\n",
       "      <th></th>\n",
       "      <th>time</th>\n",
       "      <th>latitude</th>\n",
       "      <th>longitude</th>\n",
       "      <th>depth</th>\n",
       "      <th>mag</th>\n",
       "      <th>magType</th>\n",
       "      <th>nst</th>\n",
       "      <th>gap</th>\n",
       "      <th>dmin</th>\n",
       "      <th>rms</th>\n",
       "      <th>...</th>\n",
       "      <th>updated</th>\n",
       "      <th>place</th>\n",
       "      <th>type</th>\n",
       "      <th>horizontalError</th>\n",
       "      <th>depthError</th>\n",
       "      <th>magError</th>\n",
       "      <th>magNst</th>\n",
       "      <th>status</th>\n",
       "      <th>locationSource</th>\n",
       "      <th>magSource</th>\n",
       "    </tr>\n",
       "  </thead>\n",
       "  <tbody>\n",
       "    <tr>\n",
       "      <th>0</th>\n",
       "      <td>2017-01-26T16:29:29.000Z</td>\n",
       "      <td>37.454334</td>\n",
       "      <td>-118.837334</td>\n",
       "      <td>6.71</td>\n",
       "      <td>2.26</td>\n",
       "      <td>md</td>\n",
       "      <td>26.0</td>\n",
       "      <td>141.0</td>\n",
       "      <td>0.13560</td>\n",
       "      <td>0.04</td>\n",
       "      <td>...</td>\n",
       "      <td>2017-01-26T16:34:02.284Z</td>\n",
       "      <td>24km SSE of Mammoth Lakes, California</td>\n",
       "      <td>earthquake</td>\n",
       "      <td>0.30</td>\n",
       "      <td>1.46</td>\n",
       "      <td>0.220</td>\n",
       "      <td>25.0</td>\n",
       "      <td>automatic</td>\n",
       "      <td>nc</td>\n",
       "      <td>nc</td>\n",
       "    </tr>\n",
       "    <tr>\n",
       "      <th>1</th>\n",
       "      <td>2017-01-26T16:06:32.130Z</td>\n",
       "      <td>33.504500</td>\n",
       "      <td>-116.759667</td>\n",
       "      <td>10.14</td>\n",
       "      <td>0.41</td>\n",
       "      <td>ml</td>\n",
       "      <td>16.0</td>\n",
       "      <td>78.0</td>\n",
       "      <td>0.06355</td>\n",
       "      <td>0.19</td>\n",
       "      <td>...</td>\n",
       "      <td>2017-01-26T16:09:56.994Z</td>\n",
       "      <td>10km SW of Anza, CA</td>\n",
       "      <td>earthquake</td>\n",
       "      <td>0.40</td>\n",
       "      <td>0.86</td>\n",
       "      <td>0.121</td>\n",
       "      <td>12.0</td>\n",
       "      <td>automatic</td>\n",
       "      <td>ci</td>\n",
       "      <td>ci</td>\n",
       "    </tr>\n",
       "    <tr>\n",
       "      <th>2</th>\n",
       "      <td>2017-01-26T15:50:12.770Z</td>\n",
       "      <td>33.378667</td>\n",
       "      <td>-116.351667</td>\n",
       "      <td>4.97</td>\n",
       "      <td>0.91</td>\n",
       "      <td>ml</td>\n",
       "      <td>29.0</td>\n",
       "      <td>128.0</td>\n",
       "      <td>0.12310</td>\n",
       "      <td>0.18</td>\n",
       "      <td>...</td>\n",
       "      <td>2017-01-26T15:53:49.369Z</td>\n",
       "      <td>14km N of Borrego Springs, CA</td>\n",
       "      <td>earthquake</td>\n",
       "      <td>0.37</td>\n",
       "      <td>1.27</td>\n",
       "      <td>0.123</td>\n",
       "      <td>29.0</td>\n",
       "      <td>automatic</td>\n",
       "      <td>ci</td>\n",
       "      <td>ci</td>\n",
       "    </tr>\n",
       "    <tr>\n",
       "      <th>3</th>\n",
       "      <td>2017-01-26T15:41:24.254Z</td>\n",
       "      <td>61.532600</td>\n",
       "      <td>-149.844700</td>\n",
       "      <td>35.40</td>\n",
       "      <td>2.00</td>\n",
       "      <td>ml</td>\n",
       "      <td>NaN</td>\n",
       "      <td>NaN</td>\n",
       "      <td>NaN</td>\n",
       "      <td>0.35</td>\n",
       "      <td>...</td>\n",
       "      <td>2017-01-26T15:55:30.913Z</td>\n",
       "      <td>5km ENE of Big Lake, Alaska</td>\n",
       "      <td>earthquake</td>\n",
       "      <td>NaN</td>\n",
       "      <td>1.80</td>\n",
       "      <td>NaN</td>\n",
       "      <td>NaN</td>\n",
       "      <td>automatic</td>\n",
       "      <td>ak</td>\n",
       "      <td>ak</td>\n",
       "    </tr>\n",
       "  </tbody>\n",
       "</table>\n",
       "<p>4 rows × 22 columns</p>\n",
       "</div>"
      ],
      "text/plain": [
       "                       time   latitude   longitude  depth   mag magType   nst  \\\n",
       "0  2017-01-26T16:29:29.000Z  37.454334 -118.837334   6.71  2.26      md  26.0   \n",
       "1  2017-01-26T16:06:32.130Z  33.504500 -116.759667  10.14  0.41      ml  16.0   \n",
       "2  2017-01-26T15:50:12.770Z  33.378667 -116.351667   4.97  0.91      ml  29.0   \n",
       "3  2017-01-26T15:41:24.254Z  61.532600 -149.844700  35.40  2.00      ml   NaN   \n",
       "\n",
       "     gap     dmin   rms    ...                      updated  \\\n",
       "0  141.0  0.13560  0.04    ...     2017-01-26T16:34:02.284Z   \n",
       "1   78.0  0.06355  0.19    ...     2017-01-26T16:09:56.994Z   \n",
       "2  128.0  0.12310  0.18    ...     2017-01-26T15:53:49.369Z   \n",
       "3    NaN      NaN  0.35    ...     2017-01-26T15:55:30.913Z   \n",
       "\n",
       "                                   place        type horizontalError  \\\n",
       "0  24km SSE of Mammoth Lakes, California  earthquake            0.30   \n",
       "1                    10km SW of Anza, CA  earthquake            0.40   \n",
       "2          14km N of Borrego Springs, CA  earthquake            0.37   \n",
       "3            5km ENE of Big Lake, Alaska  earthquake             NaN   \n",
       "\n",
       "  depthError  magError  magNst     status  locationSource magSource  \n",
       "0       1.46     0.220    25.0  automatic              nc        nc  \n",
       "1       0.86     0.121    12.0  automatic              ci        ci  \n",
       "2       1.27     0.123    29.0  automatic              ci        ci  \n",
       "3       1.80       NaN     NaN  automatic              ak        ak  \n",
       "\n",
       "[4 rows x 22 columns]"
      ]
     },
     "execution_count": 3,
     "metadata": {},
     "output_type": "execute_result"
    }
   ],
   "source": [
    "data.head(4)"
   ]
  },
  {
   "cell_type": "code",
   "execution_count": 4,
   "metadata": {
    "collapsed": false
   },
   "outputs": [
    {
     "data": {
      "image/png": "[encoded data removed]",
      "text/plain": [
       "<matplotlib.figure.Figure at 0x112c84358>"
      ]
     },
     "metadata": {},
     "output_type": "display_data"
    }
   ],
   "source": [
    "# Set variables for scatter plot\n",
    "x = data.longitude\n",
    "y = data.latitude\n",
    "\n",
    "plt.scatter(x,y)\n",
    "plt.title('Earthquakes around the world (last month)')\n",
    "plt.xlabel('Longitude')\n",
    "plt.ylabel('Latitude')\n",
    "\n",
    "# This actually shows the plot\n",
    "plt.show()"
   ]
  },
  {
   "cell_type": "markdown",
   "metadata": {},
   "source": [
    "Do you notice a pattern in the plot?\n",
    "\n",
    "## Run a new analysis\n",
    "You can edit the code, maybe grab a different data set, and run the program again by going to Kernel > Restart & Run All"
   ]
  },
  {
   "cell_type": "code",
   "execution_count": null,
   "metadata": {
    "collapsed": true
   },
   "outputs": [],
   "source": []
  }
 ],
 "metadata": {
  "anaconda-cloud": {},
  "kernelspec": {
   "display_name": "Python 3",
   "language": "python",
   "name": "python3"
  },
  "language_info": {
   "codemirror_mode": {
    "name": "ipython",
    "version": 3
   },
   "file_extension": ".py",
   "mimetype": "text/x-python",
   "name": "python",
   "nbconvert_exporter": "python",
   "pygments_lexer": "ipython3",
   "version": "3.5.2"
  }
 },
 "nbformat": 4,
 "nbformat_minor": 0
}
